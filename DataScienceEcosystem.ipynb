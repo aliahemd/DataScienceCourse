{
 "cells": [
  {
   "cell_type": "markdown",
   "id": "16682c94-6382-4380-82ff-ca3ee2f596e6",
   "metadata": {},
   "source": [
    "# Data Science Tools and Ecosystem"
   ]
  },
  {
   "cell_type": "markdown",
   "id": "65534062-4a00-45b4-869b-3337d4359b50",
   "metadata": {},
   "source": [
    "In this notebook, Data Science Tools and Ecosystem are summarized."
   ]
  },
  {
   "cell_type": "markdown",
   "id": "d60e0592-2392-46e9-874b-e3f64efd46bd",
   "metadata": {},
   "source": [
    "Some of the popular languages that Data Scientists use are:\n",
    "1. Python\n",
    "2. R\n",
    "3. SQL\n",
    "4. Java"
   ]
  },
  {
   "cell_type": "markdown",
   "id": "0dbceca6-3131-4202-a485-58528dfeb935",
   "metadata": {},
   "source": [
    "Some of the commonly used libraries used by Data Scientists include:\n",
    "1. NumPy\n",
    "2. Pandas\n",
    "3. MatPlotLib\n",
    "4. TensorFlow"
   ]
  },
  {
   "cell_type": "markdown",
   "id": "0f2d821a-acb3-485c-909f-fbf53e4b4fe1",
   "metadata": {},
   "source": [
    "|       *Data Science Tools*               |\n",
    "|------------------------------------------|\n",
    "|Libraries and Web Frameworks              |\n",
    "|Integrated Development Environments (IDEs)|\n",
    "|Data Visualization Tools                  |\n"
   ]
  },
  {
   "cell_type": "markdown",
   "id": "d0a57e11-7a55-4aa7-9d57-2875762cc807",
   "metadata": {},
   "source": [
    "###  Below are a few examples of evaluating arithmetic expressions in Python"
   ]
  },
  {
   "cell_type": "code",
   "execution_count": 11,
   "id": "4c42367a-9de4-4d15-ba43-cd9d381e9af7",
   "metadata": {},
   "outputs": [
    {
     "data": {
      "text/plain": [
       "17"
      ]
     },
     "execution_count": 11,
     "metadata": {},
     "output_type": "execute_result"
    }
   ],
   "source": [
    "(3*4)+5"
   ]
  },
  {
   "cell_type": "code",
   "execution_count": 13,
   "id": "1ed49ba2-611a-464a-a4e0-ef1e53db97ee",
   "metadata": {},
   "outputs": [
    {
     "data": {
      "text/plain": [
       "3.3333333333333335"
      ]
     },
     "execution_count": 13,
     "metadata": {},
     "output_type": "execute_result"
    }
   ],
   "source": [
    "# This will convert 200 minutes to hours by diving by 60\n",
    "200/60"
   ]
  },
  {
   "cell_type": "markdown",
   "id": "680fab2c-769a-49bc-bbe6-165c9530883a",
   "metadata": {},
   "source": [
    "Objectives:\n",
    "- Python\n",
    "- Java\n",
    "- SQL\n",
    "- R"
   ]
  },
  {
   "cell_type": "markdown",
   "id": "e2150a68-4ff7-4681-9a22-c4627329c054",
   "metadata": {},
   "source": [
    "## Author"
   ]
  },
  {
   "cell_type": "markdown",
   "id": "a4b5a3a2-8bc1-4553-ba3b-04d9f2110173",
   "metadata": {},
   "source": [
    "Ali Ahmed"
   ]
  },
  {
   "cell_type": "code",
   "execution_count": null,
   "id": "e553d588-3b4b-4ba9-a1b3-2c6bbfea8611",
   "metadata": {},
   "outputs": [],
   "source": []
  }
 ],
 "metadata": {
  "kernelspec": {
   "display_name": "Python 3 (ipykernel)",
   "language": "python",
   "name": "python3"
  },
  "language_info": {
   "codemirror_mode": {
    "name": "ipython",
    "version": 3
   },
   "file_extension": ".py",
   "mimetype": "text/x-python",
   "name": "python",
   "nbconvert_exporter": "python",
   "pygments_lexer": "ipython3",
   "version": "3.12.7"
  }
 },
 "nbformat": 4,
 "nbformat_minor": 5
}
